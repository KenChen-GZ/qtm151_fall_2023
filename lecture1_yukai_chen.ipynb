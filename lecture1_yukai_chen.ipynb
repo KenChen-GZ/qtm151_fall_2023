{
 "cells": [
  {
   "cell_type": "code",
   "execution_count": 3,
   "metadata": {},
   "outputs": [
    {
     "name": "stdout",
     "output_type": "stream",
     "text": [
      "My name is Ken Chen\n"
     ]
    }
   ],
   "source": [
    "print(\"My name is Ken Chen\")"
   ]
  },
  {
   "cell_type": "markdown",
   "metadata": {},
   "source": [
    "<span style=\"color:darkblue\"><font size  =10> This is my first Jupyter notebook </span> "
   ]
  }
 ],
 "metadata": {
  "language_info": {
   "name": "python"
  },
  "orig_nbformat": 4
 },
 "nbformat": 4,
 "nbformat_minor": 2
}
